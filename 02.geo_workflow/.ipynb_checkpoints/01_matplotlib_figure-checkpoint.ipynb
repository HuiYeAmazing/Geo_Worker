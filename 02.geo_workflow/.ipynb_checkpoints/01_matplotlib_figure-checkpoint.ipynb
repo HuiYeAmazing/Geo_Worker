{
 "cells": [
  {
   "cell_type": "code",
   "execution_count": 28,
   "metadata": {},
   "outputs": [],
   "source": [
    "# import matplot lib\n",
    "import matplotlib.pyplot as plt\n",
    "import numpy as np\n"
   ]
  },
  {
   "cell_type": "code",
   "execution_count": 29,
   "metadata": {
    "scrolled": true
   },
   "outputs": [
    {
     "data": {
      "image/png": "[encoded data removed]",
      "text/plain": [
       "<Figure size 432x288 with 1 Axes>"
      ]
     },
     "metadata": {},
     "output_type": "display_data"
    }
   ],
   "source": [
    "# fig, ax = plt.subplots(figsize=(1,2 英寸),dpi=600, facecolor='绘图区背景颜色', \n",
    "#                       edgecolor='绘图区边缘颜色',\n",
    "#                       frameon='是否绘制图像边缘',linewidth='The linewidth of the frame')\n",
    "fig, ax = plt.subplots(1,1)  # a figure with a 1x1 grid of Axes\n",
    "\n",
    "A = np.arange(1,5)\n",
    "B = A**2\n",
    "C = A**3\n",
    "\n",
    "ax.plot(A,B)\n",
    "ax.plot(B,A)\n",
    "ax.set_aspect('equal') \n",
    "ax.minorticks_on() \n",
    "ax.set_xlim(0,16) \n",
    "ax.grid(which='minor', axis='both')\n",
    "ax.set_title('Title',fontsize=18)\n",
    "ax.set_xlabel('xlabel', fontsize=18,fontfamily = 'sans-serif',fontstyle='italic')\n",
    "ax.set_ylabel('ylabel', fontsize='x-large',fontstyle='oblique')\n",
    "ax.xaxis.set_tick_params(rotation=45,labelsize=18,colors='w') \n",
    "start, end = ax.get_xlim() \n",
    "ax.xaxis.set_ticks(np.arange(start, end,1)) \n",
    "ax.yaxis.tick_right()\n",
    "# ax.legend()\n",
    "# Axes\n",
    "# ax = fig.add_subplot(1,1,1): \n",
    "# 可以把axes理解为你要放到画布上的各个物体。比如你要画一个太阳，一个房子，一个车在画布上，那么太阳是一个axes，房子是一个axes，etc。\n",
    "# 如果你的figure只有一张图，那么你只有一个axes。如果你的figure有subplot，那么每一个subplot就是一个axes\n",
    "# axes是matlibplot的宇宙中心！axes下可以修改编辑的变量非常多，基本上能包含你的所有需求。"
   ]
  },
  {
   "cell_type": "code",
   "execution_count": 25,
   "metadata": {},
   "outputs": [],
   "source": [
    "# Axis ax.xaxis/ax.yaxis: 对，这才是你的xy坐标轴。\n",
    "# 每个坐标轴实际上也是由竖线和数字组成的，每一个竖线其实也是一个axis的subplot，\n",
    "# 因此ax.xaxis也存在axes这个对象。对这个axes进行编辑就会修改xaxis图像上的表现。\n",
    "# ax包含列表：\n",
    "# .set_title()\n",
    "# .set_xlabel()\n",
    "# .set_ylabel()\n",
    "ax.set_aspect('equal') \n",
    "ax.minorticks_on() \n",
    "ax.set_xlim(0,16) \n",
    "ax.grid(which='minor', axis='both')"
   ]
  },
  {
   "cell_type": "code",
   "execution_count": 26,
   "metadata": {},
   "outputs": [],
   "source": [
    "ax.xaxis.set_tick_params(rotation=45,labelsize=18,colors='w') \n",
    "start, end = ax.get_xlim() \n",
    "ax.xaxis.set_ticks(np.arange(start, end,1)) \n",
    "ax.yaxis.tick_right()"
   ]
  },
  {
   "cell_type": "code",
   "execution_count": 27,
   "metadata": {},
   "outputs": [
    {
     "data": {
      "text/plain": [
       "[<matplotlib.lines.Line2D at 0x26bdb62b0c8>]"
      ]
     },
     "execution_count": 27,
     "metadata": {},
     "output_type": "execute_result"
    }
   ],
   "source": [
    "fig, ax = plt.subplots(1,1)"
   ]
  },
  {
   "cell_type": "code",
   "execution_count": null,
   "metadata": {},
   "outputs": [],
   "source": []
  }
 ],
 "metadata": {
  "kernelspec": {
   "display_name": "Python 3",
   "language": "python",
   "name": "python3"
  },
  "language_info": {
   "codemirror_mode": {
    "name": "ipython",
    "version": 3
   },
   "file_extension": ".py",
   "mimetype": "text/x-python",
   "name": "python",
   "nbconvert_exporter": "python",
   "pygments_lexer": "ipython3",
   "version": "3.7.6"
  }
 },
 "nbformat": 4,
 "nbformat_minor": 4
}
