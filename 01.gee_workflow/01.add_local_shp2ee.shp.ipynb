{
 "cells": [
  {
   "cell_type": "code",
   "execution_count": 1,
   "metadata": {},
   "outputs": [
    {
     "data": {
      "application/vnd.jupyter.widget-view+json": {
       "model_id": "7ff2168dbf3646abae045c0fa2dbf38b",
       "version_major": 2,
       "version_minor": 0
      },
      "text/plain": [
       "Map(center=[40, -100], controls=(WidgetControl(options=['position'], widget=HBox(children=(ToggleButton(value=…"
      ]
     },
     "metadata": {},
     "output_type": "display_data"
    }
   ],
   "source": [
    "# import ee and Initialize the map\n",
    "import ee, geemap\n",
    "\n",
    "ee.Initialize()\n",
    "Map = geemap.Map()\n",
    "Map"
   ]
  },
  {
   "cell_type": "code",
   "execution_count": 2,
   "metadata": {},
   "outputs": [],
   "source": [
    "# local shape file \n",
    "f_shp = r'D:\\08.专业数据\\A1_database\\A2_images\\stations_2k_dd\\stations_2k_gcs.shp'\n",
    "# convert local shape file to ee.feature\n",
    "shp_ee = geemap.shp_to_ee(f_shp)\n",
    "\n",
    "# add ee.feature to the map\n",
    "# Map.addLayer(eeObject, visParams, name, shown, opacity)\n",
    "Map.addLayer(shp_ee, {}, 'Climate stations')"
   ]
  },
  {
   "cell_type": "code",
   "execution_count": null,
   "metadata": {},
   "outputs": [],
   "source": []
  }
 ],
 "metadata": {
  "kernelspec": {
   "display_name": "Python 3",
   "language": "python",
   "name": "python3"
  },
  "language_info": {
   "codemirror_mode": {
    "name": "ipython",
    "version": 3
   },
   "file_extension": ".py",
   "mimetype": "text/x-python",
   "name": "python",
   "nbconvert_exporter": "python",
   "pygments_lexer": "ipython3",
   "version": "3.7.8"
  }
 },
 "nbformat": 4,
 "nbformat_minor": 4
}
