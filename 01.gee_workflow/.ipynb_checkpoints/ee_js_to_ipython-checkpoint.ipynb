{
 "cells": [
  {
   "cell_type": "code",
   "execution_count": 1,
   "metadata": {},
   "outputs": [],
   "source": [
    "import ee\n",
    "import geemap"
   ]
  },
  {
   "cell_type": "code",
   "execution_count": 4,
   "metadata": {},
   "outputs": [],
   "source": [
    "js_snippet = \"\"\"\n",
    "// Load an image.\n",
    "单点对单一影像进行sample（点可以换成面等）\n",
    "// Load a Landsat 8 collection for a single path-row.\n",
    "var collection = ee.ImageCollection('LANDSAT/LC8_L1T_TOA')\n",
    ".filterBounds(ee.Geometry.Point([109.84, 21]))\n",
    ".filterDate('2015-01-01', '2015-12-31');\n",
    "var image = ee.Image(collection.sort('CLOUD_COVER').first());\n",
    "print('Least cloudy image: ', image);\n",
    " \n",
    "// Extract the data\n",
    "var terribleAggregations = image.reduceRegion({\n",
    "reducer: 'mean',\n",
    "geometry: image.geometry(),\n",
    "scale: 30,\n",
    "maxPixels: 1e9\n",
    "});\n",
    "print(terribleAggregations)\n",
    "单点对collection进行sample\n",
    "// Load a Landsat 8 collection for a single path-row.\n",
    "var collection = ee.ImageCollection('LANDSAT/LC8_L1T_TOA')\n",
    ".filterBounds(ee.Geometry.Point([109.84, 21]))\n",
    ".filterDate('2015-01-01', '2015-12-31');\n",
    "var image = ee.Image(collection.sort('CLOUD_COVER').first());\n",
    "print('Least cloudy image: ', image);\n",
    " \n",
    "// Extract the data\n",
    "var terribleAggregations = collection.map(function(image) {\n",
    "return image.set(image.reduceRegion({\n",
    "reducer: 'mean',\n",
    "geometry: image.geometry(),\n",
    "scale: 30,\n",
    "maxPixels: 1e9\n",
    "}))\n",
    "});\n",
    "print(terribleAggregations)\n",
    "\n",
    "\"\"\""
   ]
  },
  {
   "cell_type": "code",
   "execution_count": 5,
   "metadata": {},
   "outputs": [],
   "source": [
    "geemap.js_snippet_to_py(js_snippet, add_new_cell=True, import_ee=False, import_geemap=False, show_map=False)"
   ]
  },
  {
   "cell_type": "code",
   "execution_count": 6,
   "metadata": {},
   "outputs": [
    {
     "ename": "AttributeError",
     "evalue": "module 'ee' has no attribute 'Export'",
     "output_type": "error",
     "traceback": [
      "\u001b[1;31m---------------------------------------------------------------------------\u001b[0m",
      "\u001b[1;31mAttributeError\u001b[0m                            Traceback (most recent call last)",
      "\u001b[1;32m<ipython-input-6-ea70e57975ef>\u001b[0m in \u001b[0;36m<module>\u001b[1;34m\u001b[0m\n\u001b[0;32m      3\u001b[0m \u001b[1;33m\u001b[0m\u001b[0m\n\u001b[0;32m      4\u001b[0m \u001b[1;31m# Load an image.\u001b[0m\u001b[1;33m\u001b[0m\u001b[1;33m\u001b[0m\u001b[1;33m\u001b[0m\u001b[0m\n\u001b[1;32m----> 5\u001b[1;33m ee.Export.table.toDrive({\n\u001b[0m\u001b[0;32m      6\u001b[0m   \u001b[1;34m'collection'\u001b[0m\u001b[1;33m:\u001b[0m \u001b[0mfeatureCollection\u001b[0m\u001b[1;33m,\u001b[0m\u001b[1;33m\u001b[0m\u001b[1;33m\u001b[0m\u001b[0m\n\u001b[0;32m      7\u001b[0m   \u001b[1;34m'description'\u001b[0m\u001b[1;33m:\u001b[0m \u001b[1;34m'area11'\u001b[0m\u001b[1;33m,\u001b[0m\u001b[1;33m\u001b[0m\u001b[1;33m\u001b[0m\u001b[0m\n",
      "\u001b[1;31mAttributeError\u001b[0m: module 'ee' has no attribute 'Export'"
     ]
    }
   ],
   "source": [
    "import ee\n",
    "ee.Initialize()\n",
    "\n",
    "# Load an image.\n",
    "Export.table.toDrive({\n",
    "  'collection': featureCollection,\n",
    "  'description': 'area11',\n",
    "  'fileFormat': 'CSV'\n",
    "})\n"
   ]
  },
  {
   "cell_type": "code",
   "execution_count": null,
   "metadata": {},
   "outputs": [],
   "source": [
    "import ee\n",
    "ee.Initialize()\n",
    "\n",
    "# Load an image.\n",
    "sampledPoints = composite.sampleRegions({\n",
    "  'collection': newfc,\n",
    "  'properties': [classProperty],\n",
    "  'scale': 30,\n",
    "  'geometries': True\n",
    "})\n"
   ]
  },
  {
   "cell_type": "code",
   "execution_count": null,
   "metadata": {},
   "outputs": [],
   "source": [
    "import ee\n",
    "import geemap\n",
    "\n",
    "Map = geemap.Map()\n",
    "ee.Initialize()\n",
    "\n",
    "# Load an image.\n",
    "meanDictionary = image.reduceRegion({\n",
    "  'reducer': ee.Reducer.mean(),\n",
    "  'geometry': region.geometry(),\n",
    "  'scale': 30,\n",
    "  'maxPixels': 1e9\n",
    "})\n"
   ]
  },
  {
   "cell_type": "code",
   "execution_count": null,
   "metadata": {},
   "outputs": [],
   "source": []
  }
 ],
 "metadata": {
  "kernelspec": {
   "display_name": "Python 3",
   "language": "python",
   "name": "python3"
  },
  "language_info": {
   "codemirror_mode": {
    "name": "ipython",
    "version": 3
   },
   "file_extension": ".py",
   "mimetype": "text/x-python",
   "name": "python",
   "nbconvert_exporter": "python",
   "pygments_lexer": "ipython3",
   "version": "3.7.6"
  }
 },
 "nbformat": 4,
 "nbformat_minor": 4
}
