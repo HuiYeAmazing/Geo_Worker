{
 "cells": [
  {
   "cell_type": "code",
   "execution_count": null,
   "metadata": {},
   "outputs": [],
   "source": [
    "import ee, os, geemap\n",
    "ee.Initialize()\n",
    "Map = geemap.Map()\n",
    "Map"
   ]
  },
  {
   "cell_type": "code",
   "execution_count": null,
   "metadata": {},
   "outputs": [],
   "source": [
    "# // Create a constant image.\n",
    "image1 = ee.Image(1)\n",
    "# print(image1)\n",
    "\n",
    "# // Concatenate two images into one multi-band image.\n",
    "image2 = ee.Image(2)\n",
    "image3 = ee.Image.cat([image1, image2])\n",
    "# print(image3)\n",
    "\n",
    "# // Create a multi-band image from a list of constants. \n",
    "multiband = ee.Image([1, 2, 3]);\n",
    "# print(multiband);"
   ]
  },
  {
   "cell_type": "code",
   "execution_count": null,
   "metadata": {},
   "outputs": [],
   "source": [
    "# // Select and (optionally) rename bands.\n",
    "var renamed = multiband.select(\n",
    "    ['constant', 'constant_1', 'constant_2'], # old names\n",
    "    ['band1', 'band2', 'band3']               # new names\n",
    ")\n",
    "# print(renamed);\n",
    "\n",
    "# // Add bands to an image.\n",
    "image4 = image3.addBands(ee.Image(42));\n",
    "# print(image4);"
   ]
  },
  {
   "cell_type": "markdown",
   "metadata": {},
   "source": [
    "Image Visualization"
   ]
  },
  {
   "cell_type": "code",
   "execution_count": null,
   "metadata": {},
   "outputs": [],
   "source": []
  }
 ],
 "metadata": {
  "kernelspec": {
   "display_name": "Python 3",
   "language": "python",
   "name": "python3"
  },
  "language_info": {
   "codemirror_mode": {
    "name": "ipython",
    "version": 3
   },
   "file_extension": ".py",
   "mimetype": "text/x-python",
   "name": "python",
   "nbconvert_exporter": "python",
   "pygments_lexer": "ipython3",
   "version": "3.7.8"
  }
 },
 "nbformat": 4,
 "nbformat_minor": 4
}
