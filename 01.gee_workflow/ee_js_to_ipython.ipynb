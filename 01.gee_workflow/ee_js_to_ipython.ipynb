{
 "cells": [
  {
   "cell_type": "code",
   "execution_count": 1,
   "metadata": {},
   "outputs": [],
   "source": [
    "import ee\n",
    "import geemap"
   ]
  },
  {
   "cell_type": "code",
   "execution_count": 24,
   "metadata": {},
   "outputs": [],
   "source": [
    "js_snippet = \"\"\"\n",
    "evi = newr.expression(\n",
    "    '2.5 * ((NIR - RED) / (NIR + 6 * RED - 7.5 * BLUE + 1))', {\n",
    "      'NIR': newr.select('B5'),\n",
    "      'RED': newr.select('B4'),\n",
    "      'BLUE':newr.select('B2')\n",
    "})\n",
    "\n",
    "\"\"\""
   ]
  },
  {
   "cell_type": "code",
   "execution_count": 25,
   "metadata": {},
   "outputs": [],
   "source": [
    "geemap.js_snippet_to_py(js_snippet, add_new_cell=True, import_ee=False, import_geemap=False, show_map=False)"
   ]
  },
  {
   "cell_type": "code",
   "execution_count": null,
   "metadata": {},
   "outputs": [],
   "source": [
    "\n",
    "evi =r.expression(\n",
    "    '2.5 * ((NIR - RED) / (NIR + 6 * RED - 7.5 * BLUE + 1))', {\n",
    "      'NIR': newr.select('B5'),\n",
    "      'RED': newr.select('B4'),\n",
    "      'BLUE':newr.select('B2')\n",
    "})\n"
   ]
  },
  {
   "cell_type": "code",
   "execution_count": 15,
   "metadata": {},
   "outputs": [],
   "source": [
    "\n",
    "def addNDWI(img):\n",
    "  NDWI = img.normalizedDifference(['B5','B6']).rename('NDWI')\n",
    "  return img.addBands(NDWI)\n"
   ]
  },
  {
   "cell_type": "code",
   "execution_count": null,
   "metadata": {},
   "outputs": [],
   "source": [
    "\n",
    "def maskL8sr(image):\n",
    "  # Bits 3 and 5 are cloud shadow and cloud, respectively.\n",
    "  cloudShadowBitMask = (1 << 3)\n",
    "  cloudsBitMask = (1 << 5)\n",
    "  # Get the pixel QA band.\n",
    "  qa = image.select('pixel_qa')\n",
    "  # Both flags should be set to zero, indicating clear conditions.\n",
    "  mask = qa.bitwiseAnd(cloudShadowBitMask).eq(0) \\\n",
    "                 .And(qa.bitwiseAnd(cloudsBitMask).eq(0))\n",
    "  return image.updateMask(mask)\n"
   ]
  },
  {
   "cell_type": "code",
   "execution_count": null,
   "metadata": {},
   "outputs": [],
   "source": [
    "\n",
    "# Load an image.\n",
    "def cloudMaskL457(image):\n",
    "  qa = image.select('pixel_qa')\n",
    "  # If the cloud bit (5) is set and the cloud confidence (7) is high\n",
    "  # or the cloud shadow bit is set (3), then it's a bad pixel.\n",
    "  cloud = qa.bitwiseAnd(1 << 5) \\\n",
    "                  .And(qa.bitwiseAnd(1 << 7)) \\\n",
    "                  .Or(qa.bitwiseAnd(1 << 3))\n",
    "  # Remove edge pixels that don't occur in all bands\n",
    "  mask2 = image.mask().reduce(ee.Reducer.min())\n",
    "  return image.updateMask(cloud.Not()).updateMask(mask2)\n"
   ]
  },
  {
   "cell_type": "code",
   "execution_count": null,
   "metadata": {},
   "outputs": [],
   "source": [
    "\n",
    "# Load an image.\n",
    "#get Landsat5 collction\n",
    "collection5 = ee.ImageCollection('LANDSAT/LT05/C01/T1_SR') \\\n",
    "    .filterBounds(mlYangtze) \\\n",
    "    .filterDate(start_date, end_date) \\\n",
    "    .map(maskL5sr) \\\n",
    "    .select(\n",
    "      ['B1', 'B2', 'B3', 'B4', 'B5', 'B7', 'pixel_qa']) \\\n",
    "     .map(addLandsatVIs)\n",
    "print('Landsat5')\n",
    "print(collection5.size())\n"
   ]
  },
  {
   "cell_type": "code",
   "execution_count": null,
   "metadata": {},
   "outputs": [],
   "source": [
    "\n",
    "# Load an image.\n",
    "ft = ee.FeatureCollection(ee.List([]))\n",
    "\n",
    "def fill(img, ini):\n",
    "  # type cast\n",
    "  inift = ee.FeatureCollection(ini)\n",
    "\n",
    "  # gets the values for the points in the current img\n",
    "  ft2 = img.reduceRegions(pts, ee.Reducer.first(),30)\n",
    "\n",
    "  # gets the date of the img\n",
    "  date = img.date().format()\n",
    "\n",
    "  # writes the date in each feature\n",
    "\n",
    "def func_ldb(f)return f.set(\"date\", date)}:\n",
    "  ft3 = ft2.map(function(f){return f.set(\"date\", date)}\n",
    "  ft3 = ft2.map(func_ldb)\n",
    "\n",
    "  # merges the FeatureCollections\n",
    "  return inift.merge(ft3)\n",
    "\n",
    "# Iterates over the ImageCollection\n",
    "newft = ee.FeatureCollection(L82014pre.iterate(fill, ft))\n",
    "\n",
    "# Export\n",
    "Export.table.toDrive(newft,\n",
    "\"anyDescription\",\n",
    "\"anyFolder\",\n",
    "\"anyNameYouWant\")\n"
   ]
  },
  {
   "cell_type": "code",
   "execution_count": null,
   "metadata": {},
   "outputs": [],
   "source": [
    "\n",
    "# Load an image.\n",
    "yearly = ee.ImageCollection('JRC/GSW1_0/YearlyHistory')\n",
    "# function to map over the FeatureCollection\n",
    "def mapfunc(feat):\n",
    "  # get feature geometry\n",
    "  geom = feat.geometry()\n",
    "  # function to iterate over the yearly ImageCollection\n",
    "  # the initial object for the iteration is the feature\n",
    "  def addProp(img, f):\n",
    "    # cast Feature\n",
    "    newf = ee.Feature(f)\n",
    "    # get date as string\n",
    "    date = img.date().format()\n",
    "    # extract the value (first) of 'waterClass' in the feature\n",
    "    value = img.reduceRegion(ee.Reducer.first(), geom, 30).get('waterClass')\n",
    "    # if the value is not {}, set the values as a property of the feature. The name of the property will be the date\n",
    "    return ee.Feature(ee.Algorithms.If(value,\n",
    "                                       newf.set(date, ee.String(value)),\n",
    "                                       newf.set(date, ee.String('No data'))))\n",
    "\n",
    "  newfeat = ee.Feature(yearly.iterate(addProp, feat))\n",
    "  return newfeat\n",
    "\n",
    "newft = fg_points.map(mapfunc)\n"
   ]
  },
  {
   "cell_type": "code",
   "execution_count": null,
   "metadata": {},
   "outputs": [],
   "source": [
    "\n",
    "# Load an image.\n",
    "单点对单一影像进行sample（点可以换成面等）\n",
    "# Load a Landsat 8 collection for a single path-row.\n",
    "collection = ee.ImageCollection('LANDSAT/LC8_L1T_TOA') \\\n",
    ".filterBounds(ee.Geometry.Point([109.84, 21])) \\\n",
    ".filterDate('2015-01-01', '2015-12-31')\n",
    "image = ee.Image(collection.sort('CLOUD_COVER').first())\n",
    "print('Least cloudy image: ', image)\n",
    "\n",
    "# Extract the data\n",
    "terribleAggregations = image.reduceRegion({\n",
    "'reducer': 'mean',\n",
    "'geometry': image.geometry(),\n",
    "'scale': 30,\n",
    "'maxPixels': 1e9\n",
    "})\n",
    "print(terribleAggregations)\n",
    "单点对collection进行sample\n",
    "# Load a Landsat 8 collection for a single path-row.\n",
    "collection = ee.ImageCollection('LANDSAT/LC8_L1T_TOA') \\\n",
    ".filterBounds(ee.Geometry.Point([109.84, 21])) \\\n",
    ".filterDate('2015-01-01', '2015-12-31')\n",
    "image = ee.Image(collection.sort('CLOUD_COVER').first())\n",
    "print('Least cloudy image: ', image)\n",
    "\n",
    "# Extract the data\n",
    "\n",
    "def func_ogp(image):\n",
    "return image.set(image.reduceRegion({\n",
    "'reducer': 'mean',\n",
    "'geometry': shp.geometry(),\n",
    "'scale': 30,\n",
    "'maxPixels': 1e9\n",
    "}))\n",
    "\n",
    "terribleAggregations = collection.map(func_ogp)\n",
    "\n",
    "print(terribleAggregations)\n"
   ]
  },
  {
   "cell_type": "code",
   "execution_count": null,
   "metadata": {},
   "outputs": [],
   "source": [
    "import ee\n",
    "ee.Initialize()\n",
    "\n",
    "# Load an image.\n",
    "sampledPoints = composite.sampleRegions({\n",
    "  'collection': newfc,\n",
    "  'properties': [classProperty],\n",
    "  'scale': 30,\n",
    "  'geometries': True\n",
    "})\n"
   ]
  },
  {
   "cell_type": "code",
   "execution_count": null,
   "metadata": {},
   "outputs": [],
   "source": [
    "import ee\n",
    "import geemap\n",
    "\n",
    "Map = geemap.Map()\n",
    "ee.Initialize()\n",
    "\n",
    "# Load an image.\n",
    "meanDictionary = image.reduceRegion({\n",
    "  'reducer': ee.Reducer.mean(),\n",
    "  'geometry': region.geometry(),\n",
    "  'scale': 30,\n",
    "  'maxPixels': 1e9\n",
    "})\n"
   ]
  },
  {
   "cell_type": "code",
   "execution_count": null,
   "metadata": {},
   "outputs": [],
   "source": []
  }
 ],
 "metadata": {
  "kernelspec": {
   "display_name": "Python 3",
   "language": "python",
   "name": "python3"
  },
  "language_info": {
   "codemirror_mode": {
    "name": "ipython",
    "version": 3
   },
   "file_extension": ".py",
   "mimetype": "text/x-python",
   "name": "python",
   "nbconvert_exporter": "python",
   "pygments_lexer": "ipython3",
   "version": "3.7.8"
  }
 },
 "nbformat": 4,
 "nbformat_minor": 4
}
