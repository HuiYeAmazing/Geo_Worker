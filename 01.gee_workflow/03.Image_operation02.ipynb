{
 "cells": [
  {
   "cell_type": "code",
   "execution_count": null,
   "metadata": {},
   "outputs": [],
   "source": [
    "import ee, os, geemap\n",
    "ee.Initialize()\n",
    "Map = geemap.Map()"
   ]
  },
  {
   "cell_type": "markdown",
   "metadata": {},
   "source": [
    "# Image information and metadata"
   ]
  },
  {
   "cell_type": "code",
   "execution_count": null,
   "metadata": {},
   "outputs": [],
   "source": [
    "# // Load an image.\n",
    "image = ee.Image('LANDSAT/LC08/C01/T1/LC08_044034_20140318')\n",
    "\n",
    "# // Get information about the bands as a list.\n",
    "bandNames = image.bandNames()\n",
    "# print('Band names: ', bandNames); // ee.List of band names\n",
    "\n",
    "# // Get projection information from band 1.\n",
    "b1proj = image.select('B1').projection()\n",
    "# print('Band 1 projection: ', b1proj); // ee.Projection object\n",
    "\n",
    "# // Get scale (in meters) information from band 1.\n",
    "b1scale = image.select('B1').projection().nominalScale()\n",
    "# print('Band 1 scale: ', b1scale); // ee.Number\n",
    "\n",
    "# // Get a list of all metadata properties.\n",
    "properties = image.propertyNames()\n",
    "print('Metadata properties: ', properties) # ee.List of metadata properties\n",
    "\n",
    "# // Get a specific metadata property.\n",
    "cloudiness = image.get('CLOUD_COVER')\n",
    "# print('CLOUD_COVER: ', cloudiness); // ee.Number\n",
    "\n",
    "# // Get the timestamp and convert it to a date.\n",
    "date = ee.Date(image.get('system:time_start'))\n",
    "# print('Timestamp: ', date); // ee.Date\n",
    "    "
   ]
  },
  {
   "cell_type": "markdown",
   "metadata": {},
   "source": [
    "# Mathematical operations"
   ]
  },
  {
   "cell_type": "code",
   "execution_count": null,
   "metadata": {},
   "outputs": [],
   "source": [
    "# // Load a 5-year Landsat 7 composite 1999-2003.\n",
    "var landsat1999 = ee.Image('LANDSAT/LE7_TOA_5YEAR/1999_2003')\n",
    "\n",
    "# // Compute NDVI.\n",
    "var ndvi1999 = landsat1999.select('B4').subtract(landsat1999.select('B3'))\n",
    "  .divide(landsat1999.select('B4').add(landsat1999.select('B3')))"
   ]
  },
  {
   "cell_type": "code",
   "execution_count": null,
   "metadata": {},
   "outputs": [],
   "source": [
    "# // Load a Landsat 8 image.\n",
    "var image = ee.Image('LANDSAT/LC08/C01/T1_TOA/LC08_044034_20140318')\n",
    "\n",
    "# // Compute the EVI using an expression.\n",
    "evi = image.expression(\n",
    "    '2.5 * ((NIR - RED) / (NIR + 6 * RED - 7.5 * BLUE + 1))', {\n",
    "      'NIR': image.select('B5'),\n",
    "      'RED': image.select('B4'),\n",
    "      'BLUE': image.select('B2')})\n",
    "\n",
    "Map.centerObject(image, 9)\n",
    "Map.addLayer(evi, {min: -1, max: 1, palette: ['FF0000', '00FF00']})"
   ]
  },
  {
   "cell_type": "markdown",
   "metadata": {},
   "source": [
    "Relational, conditional operations"
   ]
  },
  {
   "cell_type": "code",
   "execution_count": null,
   "metadata": {},
   "outputs": [],
   "source": [
    "# // Load a Landsat 8 image.\n",
    "image = ee.Image('LANDSAT/LC08/C01/T1_TOA/LC08_044034_20140318')\n",
    "\n",
    "# // Create NDVI and NDWI spectral indices.\n",
    "ndvi = image.normalizedDifference(['B5', 'B4'])\n",
    "ndwi = image.normalizedDifference(['B3', 'B5'])\n",
    "\n",
    "# // Create a binary layer using logical operations.\n",
    "bare = ndvi.lt(0.2).and(ndwi.lt(0))\n",
    "\n",
    "# // Mask and display the binary layer.\n",
    "Map.setCenter(-122.3578, 37.7726, 12)\n",
    "Map.setOptions('satellite')\n",
    "Map.addLayer(bare.updateMask(bare), {}, 'bare')\n",
    "# ------------------------------------------------------------------------------------------\n",
    "# +++++++++++++++++++++++++++++++++++++++++++++++++++++++++++++++++++++++++++++++++++++++++++\n",
    "# ------------------------------------------------------------------------------------------\n",
    "# // Load a 2012 nightlights image.\n",
    "nl2012 = ee.Image('NOAA/DMSP-OLS/NIGHTTIME_LIGHTS/F182012')\n",
    "lights = nl2012.select('stable_lights')\n",
    "\n",
    "# // Define arbitrary thresholds on the 6-bit stable lights band.\n",
    "zones = lights.gt(30).add(lights.gt(55)).add(lights.gt(62))\n",
    "\n",
    "# // Display the thresholded image as three distinct zones near Paris.\n",
    "palette = ['000000', '0000FF', '00FF00', 'FF0000']\n",
    "Map.setCenter(2.373, 48.8683, 8)\n",
    "Map.addLayer(zones, {min: 0, max: 3, palette: palette}, 'development zones')\n",
    "    "
   ]
  }
 ],
 "metadata": {
  "kernelspec": {
   "display_name": "Python 3",
   "language": "python",
   "name": "python3"
  },
  "language_info": {
   "codemirror_mode": {
    "name": "ipython",
    "version": 3
   },
   "file_extension": ".py",
   "mimetype": "text/x-python",
   "name": "python",
   "nbconvert_exporter": "python",
   "pygments_lexer": "ipython3",
   "version": "3.7.8"
  }
 },
 "nbformat": 4,
 "nbformat_minor": 4
}
