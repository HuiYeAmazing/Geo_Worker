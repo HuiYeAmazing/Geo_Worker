{
 "cells": [
  {
   "cell_type": "code",
   "execution_count": 5,
   "metadata": {},
   "outputs": [
    {
     "data": {
      "application/vnd.jupyter.widget-view+json": {
       "model_id": "4f365f097a2e4b3ebd790ac3e7dee4fb",
       "version_major": 2,
       "version_minor": 0
      },
      "text/plain": [
       "Map(center=[40, -100], controls=(WidgetControl(options=['position'], widget=HBox(children=(ToggleButton(value=…"
      ]
     },
     "metadata": {},
     "output_type": "display_data"
    }
   ],
   "source": [
    "import ee, os, geemap\n",
    "ee.Initialize()\n",
    "Map = geemap.Map()\n",
    "Map"
   ]
  },
  {
   "cell_type": "code",
   "execution_count": null,
   "metadata": {},
   "outputs": [],
   "source": [
    "# // Create a constant image.\n",
    "image1 = ee.Image(1)\n",
    "# print(image1)\n",
    "\n",
    "# // Concatenate two images into one multi-band image.\n",
    "image2 = ee.Image(2)\n",
    "image3 = ee.Image.cat([image1, image2])\n",
    "# print(image3)\n",
    "\n",
    "# // Create a multi-band image from a list of constants. \n",
    "multiband = ee.Image([1, 2, 3])\n",
    "# print(multiband);"
   ]
  },
  {
   "cell_type": "code",
   "execution_count": null,
   "metadata": {},
   "outputs": [],
   "source": [
    "# // Select and (optionally) rename bands.\n",
    "var renamed = multiband.select(\n",
    "    ['constant', 'constant_1', 'constant_2'], # old names\n",
    "    ['band1', 'band2', 'band3']               # new names\n",
    ")\n",
    "# print(renamed);\n",
    "\n",
    "# // Add bands to an image.\n",
    "image4 = image3.addBands(ee.Image(42))\n",
    "# print(image4);"
   ]
  },
  {
   "cell_type": "markdown",
   "metadata": {},
   "source": [
    "这一步我们要干嘛"
   ]
  },
  {
   "cell_type": "markdown",
   "metadata": {},
   "source": [
    "Image Visualization"
   ]
  },
  {
   "cell_type": "code",
   "execution_count": null,
   "metadata": {},
   "outputs": [],
   "source": [
    "image = ee.Image('LANDSAT/LC08/C01/T1_TOA/LC08_044034_20140318')\n",
    "\n",
    "# // Define the visualization parameters.\n",
    "vizParams = {\n",
    "  'bands': ['B5', 'B4', 'B3'],\n",
    "  'min': 0,\n",
    "  'max': 0.5,\n",
    "  'gamma': [0.95, 1.1, 1]\n",
    "}\n",
    "\n",
    "# // Center the map and display the image.\n",
    "Map.setCenter(-122.1899, 37.5010, 10) # San Francisco Bay\n",
    "Map.addLayer(image, vizParams, 'false color composite')"
   ]
  },
  {
   "cell_type": "code",
   "execution_count": null,
   "metadata": {},
   "outputs": [],
   "source": [
    "# // Create an NDWI image, define visualization parameters and display.\n",
    "ndwi = image.normalizedDifference(['B3', 'B5'])\n",
    "\n",
    "# // Mask the non-watery parts of the image, where NDWI < 0.4.\n",
    "ndwiMasked = ndwi.updateMask(ndwi.gte(0.4))\n",
    "Map.addLayer(ndwiMasked, ndwiViz, 'NDWI masked')\n",
    "\n",
    "# // Mosaic the visualization layers and display (or export).\n",
    "mosaic = ee.ImageCollection([imageRGB, ndwiRGB]).mosaic()\n",
    "Map.addLayer(mosaic, {}, 'mosaic')"
   ]
  }
 ],
 "metadata": {
  "kernelspec": {
   "display_name": "Python 3",
   "language": "python",
   "name": "python3"
  },
  "language_info": {
   "codemirror_mode": {
    "name": "ipython",
    "version": 3
   },
   "file_extension": ".py",
   "mimetype": "text/x-python",
   "name": "python",
   "nbconvert_exporter": "python",
   "pygments_lexer": "ipython3",
   "version": "3.7.8"
  }
 },
 "nbformat": 4,
 "nbformat_minor": 4
}
