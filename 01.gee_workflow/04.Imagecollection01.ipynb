{
 "cells": [
  {
   "cell_type": "code",
   "execution_count": null,
   "metadata": {},
   "outputs": [],
   "source": [
    "import ee, os, geemap\n",
    "ee.Initialize()\n",
    "Map = geemap.Map()"
   ]
  },
  {
   "cell_type": "markdown",
   "metadata": {},
   "source": [
    "# Overview\n",
    "Create a collection with from Images"
   ]
  },
  {
   "cell_type": "code",
   "execution_count": null,
   "metadata": {},
   "outputs": [],
   "source": [
    "# // Create arbitrary constant images.\n",
    "constant1 = ee.Image(1)\n",
    "constant2 = ee.Image(2)\n",
    "\n",
    "# // Create a collection by giving a list to the constructor.\n",
    "collectionFromConstructor = ee.ImageCollection([constant1, constant2])\n",
    "\n",
    "# // Create a collection with fromImages().\n",
    "collectionFromImages = ee.ImageCollection.fromImages([ee.Image(3), ee.Image(4)])\n",
    "\n",
    "# // Merge two collections.\n",
    "mergedCollection = collectionFromConstructor.merge(collectionFromImages)\n",
    "\n",
    "# // Create a toy FeatureCollection\n",
    "features = ee.FeatureCollection([ee.Feature(null, {foo: 1}), ee.Feature(null, {foo: 2})])\n",
    "\n",
    "# // Create an ImageCollection from the FeatureCollection\n",
    "# // by mapping a function over the FeatureCollection.\n",
    "images = features.map(function(feature) {\n",
    "  return ee.Image(ee.Number(feature.get('foo')))\n",
    "})\n"
   ]
  },
  {
   "cell_type": "code",
   "execution_count": null,
   "metadata": {},
   "outputs": [],
   "source": [
    "# ImageCollection Information and Metadata\n",
    "# // Load a Landsat 8 ImageCollection for a single path-row.\n",
    "collection = ee.ImageCollection('LANDSAT/LC08/C01/T1_TOA')\n",
    "    .filter(ee.Filter.eq('WRS_PATH', 44))\n",
    "    .filter(ee.Filter.eq('WRS_ROW', 34))\n",
    "    .filterDate('2014-03-01', '2014-08-01')\n",
    "\n",
    "# // Get the number of images.\n",
    "count = collection.size()\n",
    "\n",
    "# // Get the date range of images in the collection.\n",
    "range1 = collection.reduceColumns(ee.Reducer.minMax(), [\"system:time_start\"])\n",
    "print('Date range: ', ee.Date(range1.get('min')), ee.Date(range1.get('max')))\n",
    "\n",
    "# // Get statistics for a property of the images in the collection.\n",
    "sunStats = collection.aggregate_stats('SUN_ELEVATION')\n",
    "\n",
    "# // Sort by a cloud cover property, get the least cloudy image.\n",
    "image = ee.Image(collection.sort('CLOUD_COVER').first())\n",
    "\n",
    "# // Limit the collection to the 10 most recent images.\n",
    "recent = collection.sort('system:time_start', false).limit(10)\n",
    "    "
   ]
  },
  {
   "cell_type": "code",
   "execution_count": null,
   "metadata": {},
   "outputs": [],
   "source": []
  }
 ],
 "metadata": {
  "kernelspec": {
   "display_name": "Python 3",
   "language": "python",
   "name": "python3"
  },
  "language_info": {
   "codemirror_mode": {
    "name": "ipython",
    "version": 3
   },
   "file_extension": ".py",
   "mimetype": "text/x-python",
   "name": "python",
   "nbconvert_exporter": "python",
   "pygments_lexer": "ipython3",
   "version": "3.7.8"
  }
 },
 "nbformat": 4,
 "nbformat_minor": 4
}
